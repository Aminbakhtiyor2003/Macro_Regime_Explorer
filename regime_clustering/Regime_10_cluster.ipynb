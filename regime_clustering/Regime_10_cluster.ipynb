{
 "cells": [
  {
   "cell_type": "code",
   "execution_count": 1,
   "id": "61b131a0-6684-4542-918a-730af1ab7181",
   "metadata": {},
   "outputs": [
    {
     "name": "stderr",
     "output_type": "stream",
     "text": [
      "C:\\Users\\user\\anaconda3\\Lib\\site-packages\\joblib\\externals\\loky\\backend\\context.py:136: UserWarning: Could not find the number of physical cores for the following reason:\n",
      "[WinError 2] The system cannot find the file specified\n",
      "Returning the number of logical cores instead. You can silence this warning by setting LOKY_MAX_CPU_COUNT to the number of cores you want to use.\n",
      "  warnings.warn(\n",
      "  File \"C:\\Users\\user\\anaconda3\\Lib\\site-packages\\joblib\\externals\\loky\\backend\\context.py\", line 257, in _count_physical_cores\n",
      "    cpu_info = subprocess.run(\n",
      "               ^^^^^^^^^^^^^^^\n",
      "  File \"C:\\Users\\user\\anaconda3\\Lib\\subprocess.py\", line 548, in run\n",
      "    with Popen(*popenargs, **kwargs) as process:\n",
      "         ^^^^^^^^^^^^^^^^^^^^^^^^^^^\n",
      "  File \"C:\\Users\\user\\anaconda3\\Lib\\subprocess.py\", line 1026, in __init__\n",
      "    self._execute_child(args, executable, preexec_fn, close_fds,\n",
      "  File \"C:\\Users\\user\\anaconda3\\Lib\\subprocess.py\", line 1538, in _execute_child\n",
      "    hp, ht, pid, tid = _winapi.CreateProcess(executable, args,\n",
      "                       ^^^^^^^^^^^^^^^^^^^^^^^^^^^^^^^^^^^^^^^\n",
      "C:\\Users\\user\\anaconda3\\Lib\\site-packages\\sklearn\\cluster\\_kmeans.py:1429: UserWarning: KMeans is known to have a memory leak on Windows with MKL, when there are less chunks than available threads. You can avoid it by setting the environment variable OMP_NUM_THREADS=2.\n",
      "  warnings.warn(\n"
     ]
    },
    {
     "data": {
      "text/plain": [
       "'regime_model_10_clusters.csv'"
      ]
     },
     "execution_count": 1,
     "metadata": {},
     "output_type": "execute_result"
    }
   ],
   "source": [
    "import pandas as pd\n",
    "from sklearn.mixture import GaussianMixture\n",
    "\n",
    "# Load the composite score data\n",
    "df = pd.read_csv(\"individual_scaled_scores.csv\", parse_dates=[\"Date\"])\n",
    "df.set_index(\"Date\", inplace=True)\n",
    "\n",
    "# Smooth the scores\n",
    "df[\"LeadingScore_Smooth\"] = df[\"LeadingScore\"].rolling(3, center=True).mean()\n",
    "df[\"CoincidentScore_Smooth\"] = df[\"CoincidentScore\"].rolling(3, center=True).mean()\n",
    "\n",
    "# Feature engineering\n",
    "df[\"LeadMinusCoin\"] = df[\"LeadingScore_Smooth\"] - df[\"CoincidentScore_Smooth\"]\n",
    "df[\"LeadMomentum\"] = df[\"LeadingScore_Smooth\"].diff()\n",
    "df[\"CoinMomentum\"] = df[\"CoincidentScore_Smooth\"].diff()\n",
    "df.dropna(inplace=True)\n",
    "\n",
    "# Fit GMM with 10 components (regimes)\n",
    "features = [\"LeadingScore_Smooth\", \"CoincidentScore_Smooth\", \"LeadMinusCoin\", \"LeadMomentum\", \"CoinMomentum\"]\n",
    "X = df[features]\n",
    "gmm_10 = GaussianMixture(n_components=10, random_state=42)\n",
    "df[\"Regime_10\"] = gmm_10.fit_predict(X)\n",
    "\n",
    "# Add soft probabilities\n",
    "proba_10 = gmm_10.predict_proba(X)\n",
    "for i in range(10):\n",
    "    df[f\"Prob_Regime10_{i}\"] = proba_10[:, i]\n",
    "\n",
    "# Smooth probabilities (for visualization/consistency)\n",
    "proba_cols_10 = [f\"Prob_Regime10_{i}\" for i in range(10)]\n",
    "df[proba_cols_10] = df[proba_cols_10].ewm(span=3).mean()\n",
    "\n",
    "# Export this 10-regime experiment version\n",
    "output_path = \"regime_model_10_clusters.csv\"\n",
    "df.to_csv(output_path)\n",
    "\n",
    "output_path\n"
   ]
  },
  {
   "cell_type": "code",
   "execution_count": null,
   "id": "b658f29c-4cbf-4a5d-8ea5-2fed5cffec31",
   "metadata": {},
   "outputs": [],
   "source": []
  }
 ],
 "metadata": {
  "kernelspec": {
   "display_name": "Python [conda env:base] *",
   "language": "python",
   "name": "conda-base-py"
  },
  "language_info": {
   "codemirror_mode": {
    "name": "ipython",
    "version": 3
   },
   "file_extension": ".py",
   "mimetype": "text/x-python",
   "name": "python",
   "nbconvert_exporter": "python",
   "pygments_lexer": "ipython3",
   "version": "3.12.7"
  }
 },
 "nbformat": 4,
 "nbformat_minor": 5
}
