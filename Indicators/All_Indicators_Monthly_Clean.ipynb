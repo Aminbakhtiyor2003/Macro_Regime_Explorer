{
 "cells": [
  {
   "cell_type": "code",
   "execution_count": 37,
   "id": "5ae3e361-e81e-4d52-aa88-4e5781e5aa62",
   "metadata": {},
   "outputs": [],
   "source": [
    "import pandas as pd\n",
    "\n",
    "# 1. Load both CSVs and parse dates\n",
    "df_leading = pd.read_csv(\"leading_indicators.csv\", index_col=\"Date\", parse_dates=True)\n",
    "df_coincident = pd.read_csv(\"coincident_indicators.csv\", index_col=\"Date\", parse_dates=True)\n",
    "\n",
    "# 2. Create a full monthly index across both datasets\n",
    "monthly_index = pd.date_range(\n",
    "    start=max(df_leading.index.min(), df_coincident.index.min()),\n",
    "    end=min(df_leading.index.max(), df_coincident.index.max()),\n",
    "    freq=\"MS\"\n",
    ")\n",
    "\n",
    "# 3. Reindex both to the common monthly timeline\n",
    "df_leading = df_leading.reindex(monthly_index).ffill()\n",
    "df_coincident = df_coincident.reindex(monthly_index).ffill()\n",
    "\n",
    "# 4. Merge them cleanly\n",
    "df_all = pd.concat([df_leading, df_coincident], axis=1)\n",
    "\n",
    "# 5. Drop any rows with missing values (optional)\n",
    "df_all = df_all.dropna()\n",
    "\n",
    "# 6. Reset index and explicitly add 'Date' column\n",
    "df_all = df_all.reset_index()\n",
    "df_all.rename(columns={'index': 'Date'}, inplace=True)"
   ]
  },
  {
   "cell_type": "code",
   "execution_count": 39,
   "id": "a6e142a4-d5fb-48d9-9374-2cb2004cc71d",
   "metadata": {},
   "outputs": [
    {
     "name": "stdout",
     "output_type": "stream",
     "text": [
      "Clean monthly dataset created with shape: (386, 14)\n",
      "        Date  Yield Curve 10Y2Y Spread  YieldCurveThree  M2 % MoM Change  \\\n",
      "0 1993-01-01                      2.21             3.53            -0.52   \n",
      "1 1993-02-01                      2.16             3.27            -0.34   \n",
      "2 1993-03-01                      2.03             2.96            -0.22   \n",
      "3 1993-04-01                      2.13             3.04            -0.36   \n",
      "4 1993-05-01                      2.06             3.01             0.47   \n",
      "\n",
      "   Durable Goods Orders 3M Avg  Building Permits 3M Avg (% MoM)  \\\n",
      "0                        -1.48                             1.35   \n",
      "1                         1.81                             0.94   \n",
      "2                         0.26                            -3.46   \n",
      "3                         1.60                            -1.98   \n",
      "4                        -0.60                            -0.91   \n",
      "\n",
      "   Consumer Confidence (% MoM)  GDP Growth (% QoQ)  NonfarmPayrolls  \\\n",
      "0                        -1.87                0.73             1.32   \n",
      "1                        -3.02                0.73             1.60   \n",
      "2                        -0.81                0.73             1.51   \n",
      "3                        -0.35                1.18             1.64   \n",
      "4                        -6.19                1.18             1.77   \n",
      "\n",
      "   RetailSales  IndustrialProduction   PCE  Income  CorporateProfits  \n",
      "0         6.71                686.54  6.27    2.32             -0.40  \n",
      "1         5.80                134.83  6.24    2.36             -0.40  \n",
      "2         5.24                 13.04  5.72    1.96             -0.40  \n",
      "3         7.31                -13.99  6.34    2.20              3.55  \n",
      "4         7.74                -19.07  6.35    1.57              3.55  \n"
     ]
    }
   ],
   "source": [
    "\n",
    "# 6. Save to final monthly CSV\n",
    "df_all.to_csv(\"all_indicators_monthly_clean.csv\", index = False)\n",
    "\n",
    "# Optional: check output\n",
    "print(\"Clean monthly dataset created with shape:\", df_all.shape)\n",
    "print(df_all.head())"
   ]
  },
  {
   "cell_type": "code",
   "execution_count": null,
   "id": "f6e9310a-ba45-468f-89bd-97773f5d8e98",
   "metadata": {},
   "outputs": [],
   "source": []
  }
 ],
 "metadata": {
  "kernelspec": {
   "display_name": "Python [conda env:base] *",
   "language": "python",
   "name": "conda-base-py"
  },
  "language_info": {
   "codemirror_mode": {
    "name": "ipython",
    "version": 3
   },
   "file_extension": ".py",
   "mimetype": "text/x-python",
   "name": "python",
   "nbconvert_exporter": "python",
   "pygments_lexer": "ipython3",
   "version": "3.12.7"
  }
 },
 "nbformat": 4,
 "nbformat_minor": 5
}
