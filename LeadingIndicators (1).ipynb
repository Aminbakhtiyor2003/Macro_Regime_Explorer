{
 "cells": [
  {
   "cell_type": "code",
   "execution_count": 2,
   "id": "360d6d99-c29e-493b-8313-564671970b2e",
   "metadata": {},
   "outputs": [],
   "source": [
    "# api key fd0c3925530e1adec9762968a731218b"
   ]
  },
  {
   "cell_type": "code",
   "execution_count": 4,
   "id": "46d13b72-a466-4fb0-8477-25100d1589dd",
   "metadata": {},
   "outputs": [
    {
     "name": "stdout",
     "output_type": "stream",
     "text": [
      "Requirement already satisfied: fredapi in c:\\users\\user\\anaconda3\\lib\\site-packages (0.5.2)\n",
      "Requirement already satisfied: pandas in c:\\users\\user\\anaconda3\\lib\\site-packages (from fredapi) (2.2.2)\n",
      "Requirement already satisfied: numpy>=1.26.0 in c:\\users\\user\\anaconda3\\lib\\site-packages (from pandas->fredapi) (1.26.4)\n",
      "Requirement already satisfied: python-dateutil>=2.8.2 in c:\\users\\user\\anaconda3\\lib\\site-packages (from pandas->fredapi) (2.9.0.post0)\n",
      "Requirement already satisfied: pytz>=2020.1 in c:\\users\\user\\anaconda3\\lib\\site-packages (from pandas->fredapi) (2024.1)\n",
      "Requirement already satisfied: tzdata>=2022.7 in c:\\users\\user\\anaconda3\\lib\\site-packages (from pandas->fredapi) (2023.3)\n",
      "Requirement already satisfied: six>=1.5 in c:\\users\\user\\anaconda3\\lib\\site-packages (from python-dateutil>=2.8.2->pandas->fredapi) (1.16.0)\n"
     ]
    }
   ],
   "source": [
    "!pip install fredapi"
   ]
  },
  {
   "cell_type": "code",
   "execution_count": 1,
   "id": "dca765e1-5480-4428-bbfb-4211162df643",
   "metadata": {},
   "outputs": [],
   "source": [
    "import requests\n",
    "import pandas as pd\n",
    "from fredapi import Fred\n",
    "\n",
    "fred = Fred(api_key = 'fd0c3925530e1adec9762968a731218b')\n",
    "api_key = ('fd0c3925530e1adec9762968a731218b')"
   ]
  },
  {
   "cell_type": "code",
   "execution_count": 3,
   "id": "db2c22fa-660f-49e9-aa5b-bd7a98306a2d",
   "metadata": {},
   "outputs": [
    {
     "name": "stdout",
     "output_type": "stream",
     "text": [
      "Start Date: 1992-02-01\n",
      "End Date: 2025-02-01\n"
     ]
    }
   ],
   "source": [
    "# Define the series ID\n",
    "series_id = 'DGORDER'  # 10Y-2Y Yield Spread\n",
    "\n",
    "# Get series metadata (includes start and end date)\n",
    "info = fred.get_series_info(series_id)\n",
    "\n",
    "# Extract start and end dates\n",
    "start_date = info['observation_start']\n",
    "end_date = info['observation_end']\n",
    "\n",
    "print(f\"Start Date: {start_date}\")\n",
    "print(f\"End Date: {end_date}\")"
   ]
  },
  {
   "cell_type": "code",
   "execution_count": 4,
   "id": "4ab244d5-eb40-43df-83a7-eb6487ec9092",
   "metadata": {},
   "outputs": [
    {
     "name": "stdout",
     "output_type": "stream",
     "text": [
      "            Yield Curve 10Y2Y Spread\n",
      "Date                                \n",
      "1976-06-01                      0.80\n",
      "1976-07-01                      0.98\n",
      "1976-08-01                      1.14\n",
      "1976-09-01                      1.18\n",
      "1976-10-01                      1.43\n",
      "1976-11-01                      1.48\n",
      "1976-12-01                      1.49\n",
      "1977-01-01                      1.31\n",
      "1977-02-01                      1.30\n",
      "1977-03-01                      1.37\n"
     ]
    }
   ],
   "source": [
    "import requests\n",
    "import pandas as pd\n",
    "\n",
    "fred = Fred(api_key = 'fd0c3925530e1adec9762968a731218b')\n",
    "\n",
    "# Yield Curve (10Y - 2Y Spread)\n",
    "series_id_yieldcurve = 'T10Y2Y'\n",
    "units_yieldcurve = 'lin'        # No transformation #raw difference in yield (%) between the 10-year and 2-year U.S. Treasury bonds\n",
    "frequency_yieldcurve = 'm'      # Monthly \n",
    "start_date_yieldcurve = '1976-06-01'\n",
    "end_date_yieldcurve = '2025-03-27'\n",
    "\n",
    "# URL and parameters\n",
    "url_yieldcurve = \"https://api.stlouisfed.org/fred/series/observations\"\n",
    "params_yieldcurve = {\n",
    "    'series_id': series_id_yieldcurve,\n",
    "    'api_key': api_key,\n",
    "    'file_type': 'json',\n",
    "    'units': units_yieldcurve,\n",
    "    'frequency': frequency_yieldcurve,\n",
    "    'observation_start': start_date_yieldcurve,\n",
    "    'observation_end': end_date_yieldcurve\n",
    "}\n",
    "\n",
    "# Make the request\n",
    "response_yieldcurve = requests.get(url_yieldcurve, params=params_yieldcurve)\n",
    "\n",
    "# Format response\n",
    "if response_yieldcurve.status_code == 200:\n",
    "    data_yieldcurve = response_yieldcurve.json()\n",
    "    df_yieldcurve = pd.DataFrame(data_yieldcurve['observations'])\n",
    "\n",
    "    df_yieldcurve['date'] = pd.to_datetime(df_yieldcurve['date'])\n",
    "    df_yieldcurve['value'] = pd.to_numeric(df_yieldcurve['value'], errors='coerce')\n",
    "    df_yieldcurve = df_yieldcurve[['date', 'value']].set_index('date')\n",
    "    df_yieldcurve = df_yieldcurve.dropna()\n",
    "\n",
    "    df_yieldcurve.rename(columns={'value': 'Yield Curve 10Y2Y Spread'}, inplace=True)\n",
    "    df_yieldcurve.index.name = \"Date\"\n",
    "\n",
    "    print(df_yieldcurve.head(10))\n",
    "\n",
    "else:\n",
    "    print('Failed to retrieve Yield Curve data.')\n",
    "    print('Status Code:', response_yieldcurve.status_code)\n",
    "    print(response_yieldcurve.text)\n",
    "\n"
   ]
  },
  {
   "cell_type": "code",
   "execution_count": 5,
   "id": "ee4bf225-3fce-4232-b043-ad46f98d68bc",
   "metadata": {},
   "outputs": [
    {
     "name": "stdout",
     "output_type": "stream",
     "text": [
      "            YieldCurveThree\n",
      "Date                       \n",
      "1982-01-01             1.68\n",
      "1982-02-01             0.15\n",
      "1982-03-01             0.55\n",
      "1982-04-01             0.53\n",
      "1982-05-01             0.91\n",
      "1982-06-01             1.22\n",
      "1982-07-01             2.08\n",
      "1982-08-01             4.06\n",
      "1982-09-01             4.15\n",
      "1982-10-01             2.94\n"
     ]
    }
   ],
   "source": [
    "import requests\n",
    "import pandas as pd\n",
    "\n",
    "# FRED API Key\n",
    "api_key = 'fd0c3925530e1adec9762968a731218b'\n",
    "\n",
    "# Yield Curve (10Y - 3M Spread)\n",
    "series_id_yieldcurvethreem = 'T10Y3M'\n",
    "units_yieldcurvethreem = 'lin'        # No transformation\n",
    "frequency_yieldcurvethreem = 'm'      # Monthly \n",
    "start_date_yieldcurvethreem = '1976-06-01'\n",
    "end_date_yieldcurvethreem = '2025-03-27'\n",
    "\n",
    "# URL and parameters\n",
    "url_yieldcurvethreem = \"https://api.stlouisfed.org/fred/series/observations\"\n",
    "params_yieldcurvethreem = {\n",
    "    'series_id': series_id_yieldcurvethreem,\n",
    "    'api_key': api_key,\n",
    "    'file_type': 'json',\n",
    "    'units': units_yieldcurvethreem,\n",
    "    'frequency': frequency_yieldcurvethreem,\n",
    "    'observation_start': start_date_yieldcurvethreem,\n",
    "    'observation_end': end_date_yieldcurvethreem\n",
    "}\n",
    "\n",
    "# Make the request\n",
    "response_yieldcurvethreem = requests.get(url_yieldcurvethreem, params=params_yieldcurvethreem)\n",
    "\n",
    "# Format response\n",
    "if response_yieldcurvethreem.status_code == 200:\n",
    "    data_yieldcurvethreem = response_yieldcurvethreem.json()\n",
    "    df_yieldcurvethreem = pd.DataFrame(data_yieldcurvethreem['observations'])\n",
    "\n",
    "    df_yieldcurvethreem['date'] = pd.to_datetime(df_yieldcurvethreem['date'])\n",
    "    df_yieldcurvethreem['value'] = pd.to_numeric(df_yieldcurvethreem['value'], errors='coerce')\n",
    "    df_yieldcurvethreem = df_yieldcurvethreem[['date', 'value']].set_index('date')\n",
    "    df_yieldcurvethreem = df_yieldcurvethreem.dropna()\n",
    "\n",
    "    df_yieldcurvethreem.rename(columns={'value': 'YieldCurveThree'}, inplace=True)\n",
    "    df_yieldcurvethreem.index.name = \"Date\"\n",
    "\n",
    "    print(df_yieldcurvethreem.head(10))\n",
    "\n",
    "else:\n",
    "    print('Failed to retrieve Yield Curve (10Y-3M) data.')\n",
    "    print('Status Code:', response_yieldcurvethreem.status_code)\n",
    "    print(response_yieldcurvethreem.text)\n"
   ]
  },
  {
   "cell_type": "code",
   "execution_count": 6,
   "id": "928d51c4-b5f7-470f-a1dc-36bd64aac269",
   "metadata": {},
   "outputs": [
    {
     "name": "stdout",
     "output_type": "stream",
     "text": [
      "            M2 % MoM Change\n",
      "date                       \n",
      "1959-02-01          0.42514\n",
      "1959-03-01          0.62494\n",
      "1959-04-01          0.27046\n",
      "1959-05-01          0.51948\n",
      "1959-06-01          0.40747\n",
      "1959-07-01          0.23755\n",
      "1959-08-01          0.30611\n",
      "1959-09-01         -0.13782\n",
      "1959-10-01         -0.41404\n",
      "1959-11-01          0.20788\n"
     ]
    }
   ],
   "source": [
    "# Parameters for M2 Money Supply (Percent Change, Monthly)\n",
    "series_id_m2 = 'M2REAL'\n",
    "units_m2 = 'pch'  # percent change\n",
    "frequency_m2 = 'm'\n",
    "start_date_m2 = '1959-01-01'\n",
    "end_date_m2 = '2025-03-26'\n",
    "\n",
    "# URL and params\n",
    "url_m2 = \"https://api.stlouisfed.org/fred/series/observations\"\n",
    "params_m2 = {\n",
    "    'series_id': series_id_m2,\n",
    "    'api_key': api_key,\n",
    "    'file_type': 'json',\n",
    "    'units': units_m2,\n",
    "    'frequency': frequency_m2,\n",
    "    'observation_start': start_date_m2,\n",
    "    'observation_end': end_date_m2\n",
    "}\n",
    "\n",
    "# Make the request\n",
    "response_m2 = requests.get(url_m2, params=params_m2)\n",
    "\n",
    "# Parse and clean\n",
    "if response_m2.status_code == 200:\n",
    "    data_m2 = response_m2.json()\n",
    "    df_m2 = pd.DataFrame(data_m2['observations'])\n",
    "\n",
    "    df_m2['date'] = pd.to_datetime(df_m2['date'])\n",
    "    df_m2['value'] = pd.to_numeric(df_m2['value'], errors='coerce')\n",
    "    df_m2 = df_m2[['date', 'value']].dropna().set_index('date')\n",
    "    df_m2.rename(columns={'value': 'M2 % MoM Change'}, inplace=True)\n",
    "\n",
    "    print(df_m2.head(10))\n",
    "\n",
    "else:\n",
    "    print(\"Failed to retrieve M2 data.\")\n",
    "    print(\"Status Code:\", response_m2.status_code)\n",
    "    print(response_m2.text)"
   ]
  },
  {
   "cell_type": "code",
   "execution_count": 7,
   "id": "3dee1221-a986-4987-8d1f-6f8655306b5d",
   "metadata": {},
   "outputs": [
    {
     "name": "stdout",
     "output_type": "stream",
     "text": [
      "            Durable Goods Orders 3M Avg\n",
      "date                                   \n",
      "1992-05-01                     3.194300\n",
      "1992-06-01                     0.804943\n",
      "1992-07-01                    -0.495737\n",
      "1992-08-01                    -1.450297\n",
      "1992-09-01                    -0.575653\n",
      "1992-10-01                     1.335463\n",
      "1992-11-01                     0.614947\n",
      "1992-12-01                     1.541370\n",
      "1993-01-01                    -1.478183\n",
      "1993-02-01                     1.812567\n"
     ]
    }
   ],
   "source": [
    "import requests\n",
    "import pandas as pd\n",
    "\n",
    "# Parameters\n",
    "series_id_dg = 'DGORDER'\n",
    "units_dg = 'pch'\n",
    "frequency_dg = 'm'\n",
    "start_date_dg = '1992-01-01'\n",
    "end_date_dg = '2025-03-26'\n",
    "\n",
    "# API endpoint\n",
    "url_dg = \"https://api.stlouisfed.org/fred/series/observations\"\n",
    "params_dg = {\n",
    "    'series_id': series_id_dg,\n",
    "    'api_key': api_key,\n",
    "    'file_type': 'json',\n",
    "    'units': units_dg,\n",
    "    'frequency': frequency_dg,\n",
    "    'observation_start': start_date_dg,\n",
    "    'observation_end': end_date_dg\n",
    "}\n",
    "\n",
    "# API call\n",
    "response_dg = requests.get(url_dg, params=params_dg)\n",
    "\n",
    "# Process response\n",
    "if response_dg.status_code == 200:\n",
    "    data_dg = response_dg.json()\n",
    "    df_dg = pd.DataFrame(data_dg['observations'])\n",
    "\n",
    "    df_dg['date'] = pd.to_datetime(df_dg['date'])\n",
    "    df_dg['value'] = pd.to_numeric(df_dg['value'], errors='coerce')\n",
    "    df_dg = df_dg[['date', 'value']].set_index('date').dropna()\n",
    "\n",
    "    # Calculate 3-month moving average\n",
    "    df_dg['Durable Goods Orders 3M Avg'] = df_dg['value'].rolling(window=3).mean()\n",
    "\n",
    "    # Only display the 3-month average column\n",
    "    df_dg = df_dg[['Durable Goods Orders 3M Avg']].dropna()\n",
    "\n",
    "    print(df_dg.head(10))  # Preview\n",
    "\n",
    "else:\n",
    "    print(\"Failed to retrieve Durable Goods data.\")\n",
    "    print(\"Status Code:\", response_dg.status_code)\n",
    "    print(response_dg.text)\n"
   ]
  },
  {
   "cell_type": "code",
   "execution_count": 8,
   "id": "99a09746-5bd0-4317-b5e8-3d4294b418ec",
   "metadata": {},
   "outputs": [
    {
     "name": "stdout",
     "output_type": "stream",
     "text": [
      "            Building Permits 3M Avg (% MoM)\n",
      "Date                                       \n",
      "1960-04-01                        -2.067710\n",
      "1960-05-01                        -0.764508\n",
      "1960-06-01                         0.331793\n",
      "1960-07-01                        -0.370768\n",
      "1960-08-01                        -1.718704\n",
      "1960-09-01                         0.924404\n",
      "1960-10-01                        -0.908683\n",
      "1960-11-01                        -0.501795\n",
      "1960-12-01                        -1.119803\n",
      "1961-01-01                        -0.082384\n"
     ]
    }
   ],
   "source": [
    "# Building Permits (% MoM)\n",
    "series_id_permit = 'PERMIT'\n",
    "units_permit = 'lin'       # Pull raw level\n",
    "frequency_permit = 'm'\n",
    "start_date_permit = '1960-01-01'\n",
    "end_date_permit = '2025-03-26'\n",
    "\n",
    "# API call\n",
    "url_permit = \"https://api.stlouisfed.org/fred/series/observations\"\n",
    "params_permit = {\n",
    "    'series_id': series_id_permit,\n",
    "    'api_key': api_key,\n",
    "    'file_type': 'json',\n",
    "    'units': units_permit,\n",
    "    'frequency': frequency_permit,\n",
    "    'observation_start': start_date_permit,\n",
    "    'observation_end': end_date_permit\n",
    "}\n",
    "\n",
    "response_permit = requests.get(url_permit, params=params_permit)\n",
    "\n",
    "# Format DataFrame\n",
    "if response_permit.status_code == 200:\n",
    "    data_permit = response_permit.json()\n",
    "    df_permit = pd.DataFrame(data_permit['observations'])\n",
    "\n",
    "    df_permit['date'] = pd.to_datetime(df_permit['date'])\n",
    "    df_permit['value'] = pd.to_numeric(df_permit['value'], errors='coerce')\n",
    "    df_permit = df_permit[['date', 'value']].set_index('date')\n",
    "    df_permit = df_permit.dropna()\n",
    "\n",
    "    # Calculate 3-month moving average of MoM % change\n",
    "    df_permit['Building Permits (% MoM)'] = df_permit['value'].pct_change() * 100\n",
    "    df_permit['Building Permits 3M Avg (% MoM)'] = df_permit['Building Permits (% MoM)'].rolling(window=3).mean()\n",
    "\n",
    "    # Keep only the 3-month moving average column\n",
    "    df_permit = df_permit[['Building Permits 3M Avg (% MoM)']].dropna()\n",
    "    df_permit.index.name = \"Date\"\n",
    "\n",
    "    print(df_permit.head(10))\n",
    "\n",
    "else:\n",
    "    print(\"Failed to retrieve Building Permits data.\")\n",
    "    print(\"Status Code:\", response_permit.status_code)\n",
    "    print(response_permit.text)\n",
    "\n"
   ]
  },
  {
   "cell_type": "code",
   "execution_count": 9,
   "id": "ef52ada1-67ff-44e3-9037-0e0939c33fb5",
   "metadata": {
    "scrolled": true
   },
   "outputs": [
    {
     "name": "stdout",
     "output_type": "stream",
     "text": [
      "            LEI YoY % Change\n",
      "date                        \n",
      "2024-05-01           0.98961\n",
      "2024-06-01           0.91099\n",
      "2024-07-01           0.86701\n",
      "2024-08-01           0.89086\n",
      "2024-09-01           0.98607\n",
      "2024-10-01           1.11784\n",
      "2024-11-01           1.22881\n",
      "2024-12-01           1.27839\n",
      "2025-01-01           1.25572\n",
      "2025-02-01           1.18791\n"
     ]
    }
   ],
   "source": [
    "# Parameters\n",
    "series_id_leading = 'USALOLITOAASTSAM'\n",
    "units_leading = 'pc1'  # Percent change from year ago\n",
    "frequency_leading = 'm'\n",
    "start_date_leading = '1955-01-01'\n",
    "end_date_leading = '2025-03-26'\n",
    "\n",
    "# API call\n",
    "url_leading = \"https://api.stlouisfed.org/fred/series/observations\"\n",
    "params_leading = {\n",
    "    'series_id': series_id_leading,\n",
    "    'api_key': api_key,\n",
    "    'file_type': 'json',\n",
    "    'units': units_leading,\n",
    "    'frequency': frequency_leading,\n",
    "    'observation_start': start_date_leading,\n",
    "    'observation_end': end_date_leading\n",
    "}\n",
    "\n",
    "response_leading = requests.get(url_leading, params=params_leading)\n",
    "\n",
    "# Format DataFrame\n",
    "if response_leading.status_code == 200:\n",
    "    data_leading = response_leading.json()\n",
    "    df_leading = pd.DataFrame(data_leading['observations'])\n",
    "\n",
    "    df_leading['date'] = pd.to_datetime(df_leading['date'])\n",
    "    df_leading['value'] = pd.to_numeric(df_leading['value'], errors='coerce')\n",
    "    df_leading = df_leading[['date', 'value']].set_index('date')\n",
    "    df_leading.dropna(inplace=True)\n",
    "\n",
    "    # Rename column\n",
    "    df_leading.rename(columns={'value': 'LEI YoY % Change'}, inplace=True)\n",
    "\n",
    "    print(df_leading.tail(10))\n",
    "\n",
    "else:\n",
    "    print(\"Failed to retrieve Leading Indicator data.\")\n",
    "    print(\"Status Code:\", response_leading.status_code)\n",
    "    print(response_leading.text)\n"
   ]
  },
  {
   "cell_type": "code",
   "execution_count": 10,
   "id": "ae219b94-f894-4267-b60e-f3b5d85d4027",
   "metadata": {
    "scrolled": true
   },
   "outputs": [
    {
     "name": "stdout",
     "output_type": "stream",
     "text": [
      "            Consumer Confidence (% MoM)\n",
      "Date                                   \n",
      "1959-05-01                          NaN\n",
      "1959-11-01                    -1.573977\n",
      "1960-02-01                     6.609808\n",
      "1960-05-01                    -6.700000\n",
      "1960-08-01                     4.180064\n",
      "1960-11-01                    -7.304527\n",
      "1961-02-01                     1.664817\n",
      "1961-05-01                     0.982533\n",
      "1961-08-01                     7.243243\n",
      "1961-11-01                    -6.250000\n"
     ]
    }
   ],
   "source": [
    "# Consumer Confidence (University of Michigan: Consumer Sentiment Index)\n",
    "series_id_confidence = 'UMCSENT'\n",
    "units_confidence = 'lin'       # Use raw index level\n",
    "frequency_confidence = 'm'     # Monthly\n",
    "start_date_confidence = '1959-01-01'\n",
    "end_date_confidence = '2025-03-26'\n",
    "\n",
    "# API call\n",
    "url_confidence = \"https://api.stlouisfed.org/fred/series/observations\"\n",
    "params_confidence = {\n",
    "    'series_id': series_id_confidence,\n",
    "    'api_key': api_key,\n",
    "    'file_type': 'json',\n",
    "    'units': units_confidence,\n",
    "    'frequency': frequency_confidence,\n",
    "    'observation_start': start_date_confidence,\n",
    "    'observation_end': end_date_confidence\n",
    "}\n",
    "\n",
    "response_confidence = requests.get(url_confidence, params=params_confidence)\n",
    "\n",
    "# Format DataFrame\n",
    "if response_confidence.status_code == 200:\n",
    "    data_confidence = response_confidence.json()\n",
    "    df_confidence = pd.DataFrame(data_confidence['observations'])\n",
    "\n",
    "    df_confidence['date'] = pd.to_datetime(df_confidence['date'])\n",
    "    df_confidence['value'] = pd.to_numeric(df_confidence['value'], errors='coerce')\n",
    "    df_confidence = df_confidence[['date', 'value']].set_index('date')\n",
    "    df_confidence = df_confidence.dropna()\n",
    "\n",
    "    # Calculate MoM % change\n",
    "    df_confidence['Consumer Confidence (% MoM)'] = df_confidence['value'].pct_change() * 100\n",
    "    df_confidence = df_confidence.drop(columns='value')\n",
    "    df_confidence.index.name = \"Date\"\n",
    "\n",
    "    print(df_confidence.head(10))\n",
    "\n",
    "else:\n",
    "    print(\"Failed to retrieve Consumer Confidence data.\")\n",
    "    print(\"Status Code:\", response_confidence.status_code)\n",
    "    print(response_confidence.text)\n"
   ]
  },
  {
   "cell_type": "code",
   "execution_count": 93,
   "id": "a589aa5b-e2d6-4fa9-80d1-79f7b7c66085",
   "metadata": {
    "scrolled": true
   },
   "outputs": [
    {
     "name": "stdout",
     "output_type": "stream",
     "text": [
      "        Date Yield Curve 10Y2Y Spread YieldCurveThree M2 % MoM Change  \\\n",
      "0 1992-05-01                     2.17            3.67           -0.25   \n",
      "1 1992-06-01                     2.21            3.52           -0.44   \n",
      "2 1992-07-01                     2.49            3.57           -0.27   \n",
      "3 1992-08-01                     2.39            3.39           -0.07   \n",
      "4 1992-09-01                     2.52            3.45            0.12   \n",
      "\n",
      "  Durable Goods Orders 3M Avg Building Permits 3M Avg (% MoM)  \\\n",
      "0                        3.19                           -2.66   \n",
      "1                        0.80                           -0.77   \n",
      "2                       -0.50                            1.10   \n",
      "3                       -1.45                            0.61   \n",
      "4                       -0.58                            1.79   \n",
      "\n",
      "  Consumer Confidence (% MoM)  \n",
      "0                        2.59  \n",
      "1                        1.52  \n",
      "2                       -4.73  \n",
      "3                       -0.65  \n",
      "4                       -0.66  \n"
     ]
    }
   ],
   "source": [
    "# Merge all DataFrames on the Date index\n",
    "df_leading_indicators = pd.concat([\n",
    "    df_yieldcurve,\n",
    "    df_yieldcurvethreem,\n",
    "    df_m2,\n",
    "    df_dg,\n",
    "    df_permit,\n",
    "    df_confidence\n",
    "], axis=1)\n",
    "\n",
    "# Find the first date where ALL columns are non-null\n",
    "first_valid_date = df_leading_indicators.dropna().index.min()\n",
    "\n",
    "# Keep only data from that date forward\n",
    "df_leading_indicators = df_leading_indicators.loc[first_valid_date:]\n",
    "\n",
    "# Forward fill from there (fills any quarterly gaps)\n",
    "df_leading_indicators = df_leading_indicators.ffill()\n",
    "\n",
    "# Format to 2 decimal places\n",
    "for col in df_leading_indicators.columns:\n",
    "    df_leading_indicators[col] = df_leading_indicators[col].map(lambda x: f\"{x:.2f}\")\n",
    "\n",
    "# Reset index and add Date column explicitly\n",
    "df_leading_indicators = df_leading_indicators.reset_index()\n",
    "df_leading_indicators.rename(columns={'index': 'Date'}, inplace=True)\n",
    "\n",
    "# Preview\n",
    "print(df_leading_indicators.head())\n"
   ]
  },
  {
   "cell_type": "code",
   "execution_count": 95,
   "id": "dbea6b53-6519-4256-ad73-3ff1aa175fa3",
   "metadata": {},
   "outputs": [],
   "source": [
    "df_leading_indicators.to_csv(\"leading_indicators.csv\", index = False)"
   ]
  },
  {
   "cell_type": "code",
   "execution_count": 13,
   "id": "adcdd416-f067-4c1b-8645-9c5eeb67067d",
   "metadata": {},
   "outputs": [],
   "source": [
    "#df_leading_indicators.to_excel(\"leading_indicators.xlsx\")"
   ]
  },
  {
   "cell_type": "code",
   "execution_count": null,
   "id": "a862f195-ccdd-4c87-9b5d-882a88300a57",
   "metadata": {},
   "outputs": [],
   "source": []
  },
  {
   "cell_type": "code",
   "execution_count": null,
   "id": "d7530074-7434-4d32-855d-492b17afa0cf",
   "metadata": {},
   "outputs": [],
   "source": []
  },
  {
   "cell_type": "code",
   "execution_count": null,
   "id": "4a0e00ae-e1c1-4cd2-bff2-9b218c874a52",
   "metadata": {},
   "outputs": [],
   "source": []
  },
  {
   "cell_type": "code",
   "execution_count": null,
   "id": "4b7fad2b-e920-452c-94b6-c50c9dfd80b7",
   "metadata": {},
   "outputs": [],
   "source": []
  },
  {
   "cell_type": "code",
   "execution_count": null,
   "id": "7e466782-90d8-498b-9ef0-74ab7a90c159",
   "metadata": {},
   "outputs": [],
   "source": []
  },
  {
   "cell_type": "code",
   "execution_count": null,
   "id": "b253c975-7f52-4a33-972b-e09a1191d781",
   "metadata": {},
   "outputs": [],
   "source": []
  },
  {
   "cell_type": "code",
   "execution_count": null,
   "id": "f4be30ef-d813-42fb-ba5f-d494fd757a51",
   "metadata": {},
   "outputs": [],
   "source": []
  },
  {
   "cell_type": "code",
   "execution_count": null,
   "id": "c793b795-7a1d-42be-a452-fab3ccb0d39c",
   "metadata": {},
   "outputs": [],
   "source": []
  },
  {
   "cell_type": "code",
   "execution_count": null,
   "id": "11b5ecc4-a0e8-4281-8803-74ee6c34a443",
   "metadata": {},
   "outputs": [],
   "source": []
  },
  {
   "cell_type": "code",
   "execution_count": null,
   "id": "8e517013-040e-40ea-a4c8-c8315d8e6497",
   "metadata": {},
   "outputs": [],
   "source": []
  }
 ],
 "metadata": {
  "kernelspec": {
   "display_name": "Python [conda env:base] *",
   "language": "python",
   "name": "conda-base-py"
  },
  "language_info": {
   "codemirror_mode": {
    "name": "ipython",
    "version": 3
   },
   "file_extension": ".py",
   "mimetype": "text/x-python",
   "name": "python",
   "nbconvert_exporter": "python",
   "pygments_lexer": "ipython3",
   "version": "3.12.7"
  }
 },
 "nbformat": 4,
 "nbformat_minor": 5
}
