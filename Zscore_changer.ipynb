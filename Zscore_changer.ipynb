{
 "cells": [
  {
   "cell_type": "code",
   "execution_count": 24,
   "id": "dff2387c-e059-4177-8c96-8958a9868b64",
   "metadata": {},
   "outputs": [],
   "source": [
    "import pandas as pd\n",
    "from sklearn.preprocessing import StandardScaler\n",
    "\n",
    "# 1. Load your clean monthly indicators\n",
    "df = pd.read_csv(\"all_indicators_monthly_clean.csv\", index_col=\"Date\", parse_dates=True)\n",
    "\n",
    "# 2. Apply Z-score transformation\n",
    "scaler = StandardScaler()\n",
    "X_scaled = scaler.fit_transform(df)\n",
    "\n",
    "# 3. Convert back to a DataFrame with the same index and column names\n",
    "df_zscore = pd.DataFrame(X_scaled, index=df.index, columns=df.columns)\n",
    "\n",
    "# 4. Reset index so 'Date' becomes a column\n",
    "df_zscore = df_zscore.reset_index()\n"
   ]
  },
  {
   "cell_type": "code",
   "execution_count": 26,
   "id": "d29741c2-4f79-41b1-a664-f6d79534e33c",
   "metadata": {},
   "outputs": [
    {
     "name": "stdout",
     "output_type": "stream",
     "text": [
      "Z-score standardized dataset saved as 'all_indicators_zscore.csv'\n"
     ]
    }
   ],
   "source": [
    "\n",
    "# 4. Save the Z-score transformed version\n",
    "df_zscore.to_csv(\"all_indicators_zscore.csv\", index = False)\n",
    "\n",
    "print(\"Z-score standardized dataset saved as 'all_indicators_zscore.csv'\")\n"
   ]
  },
  {
   "cell_type": "code",
   "execution_count": null,
   "id": "2e4f164d-8e0c-409b-a2fe-589576e2f534",
   "metadata": {},
   "outputs": [],
   "source": []
  }
 ],
 "metadata": {
  "kernelspec": {
   "display_name": "Python [conda env:base] *",
   "language": "python",
   "name": "conda-base-py"
  },
  "language_info": {
   "codemirror_mode": {
    "name": "ipython",
    "version": 3
   },
   "file_extension": ".py",
   "mimetype": "text/x-python",
   "name": "python",
   "nbconvert_exporter": "python",
   "pygments_lexer": "ipython3",
   "version": "3.12.7"
  }
 },
 "nbformat": 4,
 "nbformat_minor": 5
}
