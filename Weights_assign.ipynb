{
 "cells": [
  {
   "cell_type": "code",
   "execution_count": 20,
   "id": "c9374536-2c3b-49fe-b135-d3747454d3d0",
   "metadata": {},
   "outputs": [
    {
     "ename": "NameError",
     "evalue": "name 'rank_scaled_score' is not defined",
     "output_type": "error",
     "traceback": [
      "\u001b[1;31m---------------------------------------------------------------------------\u001b[0m",
      "\u001b[1;31mNameError\u001b[0m                                 Traceback (most recent call last)",
      "Cell \u001b[1;32mIn[20], line 41\u001b[0m\n\u001b[0;32m     39\u001b[0m \u001b[38;5;28;01mfor\u001b[39;00m col \u001b[38;5;129;01min\u001b[39;00m leading_cols \u001b[38;5;241m+\u001b[39m coincident_cols:\n\u001b[0;32m     40\u001b[0m     \u001b[38;5;28;01mif\u001b[39;00m col \u001b[38;5;129;01min\u001b[39;00m df_zscore\u001b[38;5;241m.\u001b[39mcolumns:\n\u001b[1;32m---> 41\u001b[0m         df_scaled[col] \u001b[38;5;241m=\u001b[39m rank_scaled_score(df_zscore[col], weights[col])\n\u001b[0;32m     43\u001b[0m \u001b[38;5;66;03m# Sum up scores\u001b[39;00m\n\u001b[0;32m     44\u001b[0m df_scaled[\u001b[38;5;124m\"\u001b[39m\u001b[38;5;124mLeadingScore\u001b[39m\u001b[38;5;124m\"\u001b[39m] \u001b[38;5;241m=\u001b[39m df_scaled[leading_cols]\u001b[38;5;241m.\u001b[39msum(axis\u001b[38;5;241m=\u001b[39m\u001b[38;5;241m1\u001b[39m)\n",
      "\u001b[1;31mNameError\u001b[0m: name 'rank_scaled_score' is not defined"
     ]
    }
   ],
   "source": [
    "import pandas as pd\n",
    "\n",
    "# Load z-scored data\n",
    "df_zscore = pd.read_csv(\"all_indicators_zscore.csv\", parse_dates=[\"Date\"])\n",
    "df_zscore.set_index(\"Date\", inplace=True)\n",
    "\n",
    "# Define leading and coincident indicators\n",
    "leading_cols = [\n",
    "    \"Yield Curve 10Y2Y Spread\", \"YieldCurveThree\", \"M2 % MoM Change\",\n",
    "    \"Durable Goods Orders 3M Avg\", \"Building Permits 3M Avg (% MoM)\", \"Consumer Confidence (% MoM)\"\n",
    "]\n",
    "\n",
    "coincident_cols = [\n",
    "    \"GDP Growth (% QoQ)\", \"RetailSales\", \"IndustrialProduction\",\n",
    "    \"PCE\", \"Income\", \"CorporateProfits\", \"NonfarmPayrolls\"\n",
    "]\n",
    "\n",
    "# Define the max weight for each indicator\n",
    "weights = {\n",
    "    \"Yield Curve 10Y2Y Spread\": 11.11,\n",
    "    \"YieldCurveThree\": 16.67,\n",
    "    \"M2 % MoM Change\": 22.22,\n",
    "    \"Durable Goods Orders 3M Avg\": 16.67,\n",
    "    \"Building Permits 3M Avg (% MoM)\": 16.67,\n",
    "    \"Consumer Confidence (% MoM)\": 16.67,\n",
    "    \"GDP Growth (% QoQ)\": 20.83,\n",
    "    \"RetailSales\": 16.67,\n",
    "    \"IndustrialProduction\": 12.5,\n",
    "    \"PCE\": 12.5,\n",
    "    \"Income\": 12.5,\n",
    "    \"CorporateProfits\": 8.33,\n",
    "    \"NonfarmPayrolls\": 16.67\n",
    "}\n",
    "\n",
    "# New DataFrame for scaled scores\n",
    "df_scaled = pd.DataFrame(index=df_zscore.index)\n",
    "\n",
    "# Apply the min-max rank scaling across time per indicator\n",
    "for col in leading_cols + coincident_cols:\n",
    "    if col in df_zscore.columns:\n",
    "        df_scaled[col] = rank_scaled_score(df_zscore[col], weights[col])\n",
    "\n",
    "# Sum up scores\n",
    "df_scaled[\"LeadingScore\"] = df_scaled[leading_cols].sum(axis=1)\n",
    "df_scaled[\"CoincidentScore\"] = df_scaled[coincident_cols].sum(axis=1)\n",
    "\n",
    "# Preview\n",
    "print(df_scaled[[\"LeadingScore\", \"CoincidentScore\"]].head())\n",
    "\n",
    "\n"
   ]
  },
  {
   "cell_type": "code",
   "execution_count": 16,
   "id": "8a176529-f7c5-4a59-8b50-56f0b49fa293",
   "metadata": {},
   "outputs": [
    {
     "name": "stdout",
     "output_type": "stream",
     "text": [
      "✅ Individually scaled scores saved as 'individual_scaled_scores.csv'\n"
     ]
    },
    {
     "ename": "KeyError",
     "evalue": "\"None of [Index(['LeadingScore', 'CoincidentScore'], dtype='object')] are in the [columns]\"",
     "output_type": "error",
     "traceback": [
      "\u001b[1;31m---------------------------------------------------------------------------\u001b[0m",
      "\u001b[1;31mKeyError\u001b[0m                                  Traceback (most recent call last)",
      "Cell \u001b[1;32mIn[16], line 6\u001b[0m\n\u001b[0;32m      4\u001b[0m \u001b[38;5;66;03m# Preview\u001b[39;00m\n\u001b[0;32m      5\u001b[0m \u001b[38;5;28mprint\u001b[39m(\u001b[38;5;124m\"\u001b[39m\u001b[38;5;124m✅ Individually scaled scores saved as \u001b[39m\u001b[38;5;124m'\u001b[39m\u001b[38;5;124mindividual_scaled_scores.csv\u001b[39m\u001b[38;5;124m'\u001b[39m\u001b[38;5;124m\"\u001b[39m)\n\u001b[1;32m----> 6\u001b[0m \u001b[38;5;28mprint\u001b[39m(df_scaled[[\u001b[38;5;124m\"\u001b[39m\u001b[38;5;124mLeadingScore\u001b[39m\u001b[38;5;124m\"\u001b[39m, \u001b[38;5;124m\"\u001b[39m\u001b[38;5;124mCoincidentScore\u001b[39m\u001b[38;5;124m\"\u001b[39m]]\u001b[38;5;241m.\u001b[39mhead())\n",
      "File \u001b[1;32m~\\anaconda3\\Lib\\site-packages\\pandas\\core\\frame.py:4108\u001b[0m, in \u001b[0;36mDataFrame.__getitem__\u001b[1;34m(self, key)\u001b[0m\n\u001b[0;32m   4106\u001b[0m     \u001b[38;5;28;01mif\u001b[39;00m is_iterator(key):\n\u001b[0;32m   4107\u001b[0m         key \u001b[38;5;241m=\u001b[39m \u001b[38;5;28mlist\u001b[39m(key)\n\u001b[1;32m-> 4108\u001b[0m     indexer \u001b[38;5;241m=\u001b[39m \u001b[38;5;28mself\u001b[39m\u001b[38;5;241m.\u001b[39mcolumns\u001b[38;5;241m.\u001b[39m_get_indexer_strict(key, \u001b[38;5;124m\"\u001b[39m\u001b[38;5;124mcolumns\u001b[39m\u001b[38;5;124m\"\u001b[39m)[\u001b[38;5;241m1\u001b[39m]\n\u001b[0;32m   4110\u001b[0m \u001b[38;5;66;03m# take() does not accept boolean indexers\u001b[39;00m\n\u001b[0;32m   4111\u001b[0m \u001b[38;5;28;01mif\u001b[39;00m \u001b[38;5;28mgetattr\u001b[39m(indexer, \u001b[38;5;124m\"\u001b[39m\u001b[38;5;124mdtype\u001b[39m\u001b[38;5;124m\"\u001b[39m, \u001b[38;5;28;01mNone\u001b[39;00m) \u001b[38;5;241m==\u001b[39m \u001b[38;5;28mbool\u001b[39m:\n",
      "File \u001b[1;32m~\\anaconda3\\Lib\\site-packages\\pandas\\core\\indexes\\base.py:6200\u001b[0m, in \u001b[0;36mIndex._get_indexer_strict\u001b[1;34m(self, key, axis_name)\u001b[0m\n\u001b[0;32m   6197\u001b[0m \u001b[38;5;28;01melse\u001b[39;00m:\n\u001b[0;32m   6198\u001b[0m     keyarr, indexer, new_indexer \u001b[38;5;241m=\u001b[39m \u001b[38;5;28mself\u001b[39m\u001b[38;5;241m.\u001b[39m_reindex_non_unique(keyarr)\n\u001b[1;32m-> 6200\u001b[0m \u001b[38;5;28mself\u001b[39m\u001b[38;5;241m.\u001b[39m_raise_if_missing(keyarr, indexer, axis_name)\n\u001b[0;32m   6202\u001b[0m keyarr \u001b[38;5;241m=\u001b[39m \u001b[38;5;28mself\u001b[39m\u001b[38;5;241m.\u001b[39mtake(indexer)\n\u001b[0;32m   6203\u001b[0m \u001b[38;5;28;01mif\u001b[39;00m \u001b[38;5;28misinstance\u001b[39m(key, Index):\n\u001b[0;32m   6204\u001b[0m     \u001b[38;5;66;03m# GH 42790 - Preserve name from an Index\u001b[39;00m\n",
      "File \u001b[1;32m~\\anaconda3\\Lib\\site-packages\\pandas\\core\\indexes\\base.py:6249\u001b[0m, in \u001b[0;36mIndex._raise_if_missing\u001b[1;34m(self, key, indexer, axis_name)\u001b[0m\n\u001b[0;32m   6247\u001b[0m \u001b[38;5;28;01mif\u001b[39;00m nmissing:\n\u001b[0;32m   6248\u001b[0m     \u001b[38;5;28;01mif\u001b[39;00m nmissing \u001b[38;5;241m==\u001b[39m \u001b[38;5;28mlen\u001b[39m(indexer):\n\u001b[1;32m-> 6249\u001b[0m         \u001b[38;5;28;01mraise\u001b[39;00m \u001b[38;5;167;01mKeyError\u001b[39;00m(\u001b[38;5;124mf\u001b[39m\u001b[38;5;124m\"\u001b[39m\u001b[38;5;124mNone of [\u001b[39m\u001b[38;5;132;01m{\u001b[39;00mkey\u001b[38;5;132;01m}\u001b[39;00m\u001b[38;5;124m] are in the [\u001b[39m\u001b[38;5;132;01m{\u001b[39;00maxis_name\u001b[38;5;132;01m}\u001b[39;00m\u001b[38;5;124m]\u001b[39m\u001b[38;5;124m\"\u001b[39m)\n\u001b[0;32m   6251\u001b[0m     not_found \u001b[38;5;241m=\u001b[39m \u001b[38;5;28mlist\u001b[39m(ensure_index(key)[missing_mask\u001b[38;5;241m.\u001b[39mnonzero()[\u001b[38;5;241m0\u001b[39m]]\u001b[38;5;241m.\u001b[39munique())\n\u001b[0;32m   6252\u001b[0m     \u001b[38;5;28;01mraise\u001b[39;00m \u001b[38;5;167;01mKeyError\u001b[39;00m(\u001b[38;5;124mf\u001b[39m\u001b[38;5;124m\"\u001b[39m\u001b[38;5;132;01m{\u001b[39;00mnot_found\u001b[38;5;132;01m}\u001b[39;00m\u001b[38;5;124m not in index\u001b[39m\u001b[38;5;124m\"\u001b[39m)\n",
      "\u001b[1;31mKeyError\u001b[0m: \"None of [Index(['LeadingScore', 'CoincidentScore'], dtype='object')] are in the [columns]\""
     ]
    }
   ],
   "source": [
    "\n",
    "# Save results\n",
    "df_scaled.reset_index().to_csv(\"individual_scaled_scores.csv\", index=False)\n",
    "\n",
    "# Preview\n",
    "print(\"✅ Individually scaled scores saved as 'individual_scaled_scores.csv'\")\n",
    "print(df_scaled[[\"LeadingScore\", \"CoincidentScore\"]].head())"
   ]
  },
  {
   "cell_type": "code",
   "execution_count": null,
   "id": "48f7f2c5-380e-42df-8c99-58ec8544b720",
   "metadata": {},
   "outputs": [],
   "source": []
  }
 ],
 "metadata": {
  "kernelspec": {
   "display_name": "Python [conda env:base] *",
   "language": "python",
   "name": "conda-base-py"
  },
  "language_info": {
   "codemirror_mode": {
    "name": "ipython",
    "version": 3
   },
   "file_extension": ".py",
   "mimetype": "text/x-python",
   "name": "python",
   "nbconvert_exporter": "python",
   "pygments_lexer": "ipython3",
   "version": "3.12.7"
  }
 },
 "nbformat": 4,
 "nbformat_minor": 5
}
